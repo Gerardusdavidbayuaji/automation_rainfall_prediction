{
 "cells": [
  {
   "cell_type": "code",
   "execution_count": 32,
   "metadata": {},
   "outputs": [],
   "source": [
    "from netCDF4 import Dataset, date2num, num2date\n",
    "import numpy as np\n",
    "import numpy.ma as ma\n",
    "from numpy import meshgrid\n",
    "import pandas as pd\n",
    "import math\n",
    "import matplotlib.pyplot as plt\n",
    "import matplotlib.cm as cmx\n",
    "import matplotlib.colors\n",
    "import glob\n",
    "import ftplib\n",
    "import os\n",
    "import datetime\n",
    "os.environ[\"PROJ_LIB\"] = \"C:/Users/admin/anaconda3/pkgs/proj4-5.2.0-h6538335_1006/Library/share\""
   ]
  },
  {
   "cell_type": "code",
   "execution_count": null,
   "metadata": {},
   "outputs": [],
   "source": [
    "#definisikan tanggal data yang mau diambil hari ini\n",
    "rewind_day=1\n",
    "cycle = '12'\n",
    "today = datetime.date.today()-datetime.timedelta(days=rewind_day)\n",
    "print(\"ECMWF.0125.\"+today.strftime('%Y%m%d')+cycle+\"00.PREC.nc\")"
   ]
  },
  {
   "cell_type": "code",
   "execution_count": 34,
   "metadata": {},
   "outputs": [],
   "source": [
    "#cycle option \"CHANGE INPUT HERE..\"\n",
    "\n",
    "if (cycle=='00') :\n",
    "    n=4\n",
    "else :\n",
    "    n=0"
   ]
  },
  {
   "cell_type": "code",
   "execution_count": 35,
   "metadata": {},
   "outputs": [],
   "source": [
    "#read data\n",
    "listfile=glob.glob('D:/Data Wawan/Bahan Produk Harian/ECMWF BMKG/*')\n",
    "path='D:/Data Wawan/Bahan Produk Harian/ECMWF BMKG/ECMWF Modifikasi/'\n",
    "filename = \"ECMWF_new_3d.0125.\"+today.strftime('%Y%m%d')+cycle+\"00.PREC.nc\""
   ]
  },
  {
   "cell_type": "code",
   "execution_count": 36,
   "metadata": {},
   "outputs": [],
   "source": [
    "def read_nc(cycle,rewind_day):\n",
    "    today = datetime.date.today()-datetime.timedelta(days=rewind_day)\n",
    "    filename = \"ECMWF_new_3d.0125.\"+today.strftime('%Y%m%d')+cycle+\"00.PREC.nc\"\n",
    "    print (\"Reading data \"+filename+\"....\", end='')\n",
    "    data = Dataset(path_modified+filename)\n",
    "    return data, cycle, filename"
   ]
  },
  {
   "cell_type": "code",
   "execution_count": null,
   "metadata": {},
   "outputs": [],
   "source": [
    "# Read NetCDF File\n",
    "data = Dataset(path+filename)\n",
    "data.variables"
   ]
  },
  {
   "cell_type": "code",
   "execution_count": null,
   "metadata": {},
   "outputs": [],
   "source": [
    "#Check waktu data\n",
    "time = data.variables['time'][:]\n",
    "dates = num2date(time, data.variables['time'].units)\n",
    "print((dates[11+n]).strftime('%Y-%m-%d %H:%M:%S WIB'))\n",
    "print((dates[19+n]).strftime('%Y-%m-%d %H:%M:%S WIB'))"
   ]
  },
  {
   "cell_type": "code",
   "execution_count": 39,
   "metadata": {},
   "outputs": [],
   "source": [
    "#Get long Lat Data\n",
    "lon = data.variables['lon']\n",
    "lat = data.variables['lat']"
   ]
  },
  {
   "cell_type": "code",
   "execution_count": 40,
   "metadata": {},
   "outputs": [],
   "source": [
    "#Rainfall data(time, lat, lon)\n",
    "prec = data.variables['rain'][:,:,:]"
   ]
  },
  {
   "cell_type": "code",
   "execution_count": 41,
   "metadata": {},
   "outputs": [],
   "source": [
    "os.environ[\"PROJ_LIB\"] =\"C:/Users/USER/Anaconda3/Library/share\";\n",
    "\n",
    "from mpl_toolkits.basemap import Basemap"
   ]
  },
  {
   "cell_type": "code",
   "execution_count": 42,
   "metadata": {},
   "outputs": [],
   "source": [
    "m = Basemap(llcrnrlon = 92, llcrnrlat = -12, urcrnrlon = 144, urcrnrlat = 9,projection='cyl',resolution='i',epsg=23839)\n",
    "mSum = Basemap(llcrnrlon = 94.764003, llcrnrlat = -6.298919, urcrnrlon = 109.706710, urcrnrlat = 6.266158,projection='cyl',resolution='i',epsg=23839)\n",
    "mKal = Basemap(llcrnrlon = 106.1, llcrnrlat = -5.145657, urcrnrlon = 121, urcrnrlat = 7.666080,projection='cyl',resolution='i',epsg=23839)\n",
    "mJawa = Basemap(llcrnrlon = 104.760413, llcrnrlat = -9.069551, urcrnrlon = 114.878348, urcrnrlat = -5.561315,projection='cyl',resolution='i',epsg=23839)\n",
    "mBalNus = Basemap(llcrnrlon = 114.413355, llcrnrlat = -11.210734, urcrnrlon = 127.534098, urcrnrlat = -6.948239,projection='cyl',resolution='i',epsg=23839)\n",
    "mSulMal = Basemap(llcrnrlon = 117.644439, llcrnrlat = -8.559294, urcrnrlon = 135.118110, urcrnrlat = 5.763570,projection='cyl',resolution='i',epsg=23839)\n",
    "mPapua = Basemap(llcrnrlon = 126.5, llcrnrlat = -11.542343, urcrnrlon = 144, urcrnrlat = 2.780521,projection='cyl',resolution='i',epsg=23839)"
   ]
  },
  {
   "cell_type": "code",
   "execution_count": null,
   "metadata": {},
   "outputs": [],
   "source": [
    "# define color map\n",
    "import matplotlib.cm as cm\n",
    "import matplotlib.colors as col\n",
    "from matplotlib.colors import BoundaryNorm\n",
    "\n",
    "cpool = ['#5AFB04','#F4FB05','#EF7000', '#FF1700']\n",
    "cmap3 = col.ListedColormap(cpool, 'indexed')\n",
    "cm.register_cmap(cmap=cmap3)\n",
    "levels =np.array([1,5,10,20,25])\n",
    "norm = col.BoundaryNorm(levels, ncolors=cmap3.N, clip=True)"
   ]
  },
  {
   "cell_type": "code",
   "execution_count": 44,
   "metadata": {},
   "outputs": [],
   "source": [
    "# set frame size\n",
    "def cm_to_inch(value):\n",
    "    return value/2.54"
   ]
  },
  {
   "cell_type": "code",
   "execution_count": null,
   "metadata": {},
   "outputs": [],
   "source": [
    "tanggal=(dates[11+n]).strftime('%d %B %Y')\n",
    "print (tanggal)"
   ]
  },
  {
   "cell_type": "code",
   "execution_count": 46,
   "metadata": {},
   "outputs": [],
   "source": [
    "os.makedirs('D:/Data Wawan/Laporan Prediksi Harian/Bahan GIF/ECMWF BMKG/'+tanggal+'/'+'Indonesia',exist_ok=True)\n",
    "os.makedirs('D:/Data Wawan/Laporan Prediksi Harian/Bahan GIF/ECMWF BMKG/'+tanggal+'/'+'Wilayah_2',exist_ok=True)\n",
    "os.makedirs('D:/Data Wawan/Laporan Prediksi Harian/Bahan GIF/ECMWF BMKG/'+tanggal+'/'+'Wilayah_1',exist_ok=True)\n",
    "os.makedirs('D:/Data Wawan/Laporan Prediksi Harian/Bahan GIF/ECMWF BMKG/'+tanggal+'/'+'Wilayah_3',exist_ok=True)\n",
    "os.makedirs('D:/Data Wawan/Laporan Prediksi Harian/Bahan GIF/ECMWF BMKG/'+tanggal+'/'+'Akumulasi',exist_ok=True)"
   ]
  },
  {
   "cell_type": "markdown",
   "metadata": {},
   "source": [
    "## Peta Untuk Template GIF Prediksi Hujan Esok Hari"
   ]
  },
  {
   "cell_type": "markdown",
   "metadata": {},
   "source": [
    "### Indonesia "
   ]
  },
  {
   "cell_type": "code",
   "execution_count": null,
   "metadata": {},
   "outputs": [],
   "source": [
    "xx,yy = np.meshgrid(lon,lat)\n",
    "\n",
    "for k in range (11+n,19+n) :\n",
    "    \n",
    "    # fig = plt.figure(figsize=(cm_to_inch(28),cm_to_inch(12.0451)))\n",
    "    # m.drawcoastlines(linewidth=1.0)\n",
    "    # m.readshapefile('D:/Data Wawan/Skript Wawan/Bahan/SHP/Sungai_Kritis Indonesia','Sungai_Kritis Indonesia', color= 'r')\n",
    "    # m.readshapefile('D:/Data Wawan/Skript Wawan/Bahan/SHP/WSPro','WSPro', color= 'gold')\n",
    "\n",
    "    cs = m.contourf(xx,yy,prec[k,:,:], latlon=True,levels=[1,5,10,20], cmap=cmap3,extend='max', alpha=0.5)\n",
    "    m.arcgisimage(service='World_Imagery', xpixels = 2000, verbose= False)\n",
    "    inisial_jam=(dates[k-1]).strftime('Pukul %H:00-')\n",
    "    akhir=(dates[k]).strftime('%H:00 WIB')\n",
    "    plt.title(inisial_jam+akhir,weight='bold',fontsize=8,loc='left',y=-0.07,color='k')\n",
    "    print (k)\n",
    "\n",
    "    # m.drawparallels(np.linspace(-14,10, 5),labels=[1, 0, 0, 0],linewidth=0.5, dashes=[4, 4],fontsize=13, rotation=90) #lat\n",
    "    # m.drawparallels(np.linspace(-14,10, 5),labels=[0, 1, 0, 0],linewidth=0.5, dashes=[4, 4],fontsize=13, rotation=270) #lat\n",
    "    # m.drawmeridians(np.linspace(104,146, 5),labels=[0, 0, 1, 1],linewidth=0.5, dashes=[4, 4],fontsize=13) #lon\n",
    "    \n",
    "    plt.show() \n",
    "    \n",
    "    # fig.savefig('D:/Data Wawan/Laporan Prediksi Harian/Bahan GIF/ECMWF BMKG/'+tanggal+'/'+'Indonesia/'+'/Indo'+\\\n",
    "    #             ((dates[k]).strftime('%Y-%m-%d %H.%M WIB'))+'.png', \\\n",
    "    #             dpi=300, orientation='landscape',bbox_inches='tight',frameon=None, transparent=True)"
   ]
  },
  {
   "cell_type": "markdown",
   "metadata": {},
   "source": [
    "### GIF "
   ]
  },
  {
   "cell_type": "code",
   "execution_count": 48,
   "metadata": {},
   "outputs": [],
   "source": [
    "from PIL import Image\n",
    "\n",
    "# Create the frames\n",
    "\n",
    "#Indonesia\n",
    "frames = []\n",
    "#tanggal=(dates[11+n]+datetime.timedelta(hours=7)).strftime('%d%B%Y')\n",
    "lokasi='D:/Data Wawan/Laporan Prediksi Harian/Bahan GIF/ECMWF BMKG/'+tanggal+'/'+'Indonesia/'\n",
    "imgs = glob.glob(lokasi+'/Indo*.png')\n",
    "for i in imgs:\n",
    "    new_frame = Image.open(i)\n",
    "    frames.append(new_frame) \n",
    "\n",
    "# Save into a GIF file that loops forever\n",
    "frames[0].save(lokasi+'/BMKG_GIF_Indonesia_'+tanggal+'.gif', format='GIF',\n",
    "               append_images=frames[1:],\n",
    "               save_all=True,\n",
    "               duration=3000, loop=0)"
   ]
  }
 ],
 "metadata": {
  "kernelspec": {
   "display_name": "venv",
   "language": "python",
   "name": "python3"
  },
  "language_info": {
   "codemirror_mode": {
    "name": "ipython",
    "version": 3
   },
   "file_extension": ".py",
   "mimetype": "text/x-python",
   "name": "python",
   "nbconvert_exporter": "python",
   "pygments_lexer": "ipython3",
   "version": "3.10.8"
  }
 },
 "nbformat": 4,
 "nbformat_minor": 2
}
